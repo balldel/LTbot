{
 "cells": [
  {
   "cell_type": "code",
   "execution_count": 1,
   "metadata": {},
   "outputs": [],
   "source": [
    "from selenium import webdriver\n",
    "from selenium.webdriver.common.desired_capabilities import DesiredCapabilities\n",
    "from selenium.webdriver.common.by import By\n",
    "import time"
   ]
  },
  {
   "cell_type": "code",
   "execution_count": 2,
   "metadata": {},
   "outputs": [],
   "source": [
    "driver = webdriver.Firefox()\n",
    "urlMain =\"https://www.skyscanner.co.th/transport/flights/bkkt/IT?adults=2&children=0&adultsv2=2&childrenv2=&infants=0&cabinclass=economy&rtn=1&preferdirects=false&outboundaltsenabled=false&inboundaltsenabled=false&ref=home\"\n",
    "driver.get(urlMain)\n",
    "time.sleep(5)"
   ]
  },
  {
   "cell_type": "code",
   "execution_count": 3,
   "metadata": {},
   "outputs": [
    {
     "name": "stdout",
     "output_type": "stream",
     "text": [
      "มิลาน\n",
      "บินตรง\n",
      "เริ่มต้นที่ ฿13,903 https://www.skyscanner.co.th/transport/flights/bkkt/mila?adults=2&children=0&adultsv2=2&childrenv2=&infants=0&cabinclass=economy&rtn=1&preferdirects=false&outboundaltsenabled=false&inboundaltsenabled=false&qp_prevProvider=ins_browse&qp_prevCurrency=THB&priceSourceId=b3ms-SG1-1&qp_prevPrice=13903\n",
      "โรม\n",
      "1+ จุดพัก (มีเที่ยวบินตรง)\n",
      "เริ่มต้นที่ ฿15,846 https://www.skyscanner.co.th/transport/flights/bkkt/rome?adults=2&children=0&adultsv2=2&childrenv2=&infants=0&cabinclass=economy&rtn=1&preferdirects=false&outboundaltsenabled=false&inboundaltsenabled=false&qp_prevProvider=ins_browse&qp_prevCurrency=THB&priceSourceId=b3ms-SG1-1&qp_prevPrice=15846\n",
      "คาตาเนีย\n",
      "1+ จุดพัก\n",
      "เริ่มต้นที่ ฿16,452 https://www.skyscanner.co.th/transport/flights/bkkt/cata?adults=2&children=0&adultsv2=2&childrenv2=&infants=0&cabinclass=economy&rtn=1&preferdirects=false&outboundaltsenabled=false&inboundaltsenabled=false&qp_prevProvider=ins_browse&qp_prevCurrency=THB&priceSourceId=b3ms-SG1-1&qp_prevPrice=16452\n",
      "ลาเมเซียแตร์เม\n",
      "1+ จุดพัก\n",
      "เริ่มต้นที่ ฿16,464 https://www.skyscanner.co.th/transport/flights/bkkt/mara?adults=2&children=0&adultsv2=2&childrenv2=&infants=0&cabinclass=economy&rtn=1&preferdirects=false&outboundaltsenabled=false&inboundaltsenabled=false&qp_prevProvider=ins_browse&qp_prevCurrency=THB&priceSourceId=b3ms-SG1-1&qp_prevPrice=16464\n",
      "ปาแลร์โม\n",
      "1+ จุดพัก\n",
      "เริ่มต้นที่ ฿16,559 https://www.skyscanner.co.th/transport/flights/bkkt/pale?adults=2&children=0&adultsv2=2&childrenv2=&infants=0&cabinclass=economy&rtn=1&preferdirects=false&outboundaltsenabled=false&inboundaltsenabled=false&qp_prevProvider=ins_browse&qp_prevCurrency=THB&priceSourceId=b3ms-SG1-1&qp_prevPrice=16559\n",
      "นาโปลี\n",
      "1+ จุดพัก\n",
      "เริ่มต้นที่ ฿16,592 https://www.skyscanner.co.th/transport/flights/bkkt/napl?adults=2&children=0&adultsv2=2&childrenv2=&infants=0&cabinclass=economy&rtn=1&preferdirects=false&outboundaltsenabled=false&inboundaltsenabled=false&qp_prevProvider=ins_browse&qp_prevCurrency=THB&priceSourceId=b3ms-SG1-1&qp_prevPrice=16592\n",
      "เวนิส\n",
      "1+ จุดพัก\n",
      "เริ่มต้นที่ ฿18,591 https://www.skyscanner.co.th/transport/flights/bkkt/veni?adults=2&children=0&adultsv2=2&childrenv2=&infants=0&cabinclass=economy&rtn=1&preferdirects=false&outboundaltsenabled=false&inboundaltsenabled=false&qp_prevProvider=ins_browse&qp_prevCurrency=THB&priceSourceId=b3ms-SG1-1&qp_prevPrice=18591\n",
      "บรินดิซี\n",
      "1+ จุดพัก\n",
      "เริ่มต้นที่ ฿20,829 https://www.skyscanner.co.th/transport/flights/bkkt/brin?adults=2&children=0&adultsv2=2&childrenv2=&infants=0&cabinclass=economy&rtn=1&preferdirects=false&outboundaltsenabled=false&inboundaltsenabled=false&qp_prevProvider=ins_browse&qp_prevCurrency=THB&priceSourceId=b3ms-SG1-1&qp_prevPrice=20829\n",
      "โบโลญญา\n",
      "1+ จุดพัก\n",
      "เริ่มต้นที่ ฿22,090 https://www.skyscanner.co.th/transport/flights/bkkt/bolo?adults=2&children=0&adultsv2=2&childrenv2=&infants=0&cabinclass=economy&rtn=1&preferdirects=false&outboundaltsenabled=false&inboundaltsenabled=false&qp_prevProvider=ins_browse&qp_prevCurrency=THB&priceSourceId=b3ms-SG1-1&qp_prevPrice=22090\n",
      "เวโรนา\n",
      "1+ จุดพัก\n",
      "เริ่มต้นที่ ฿22,721 https://www.skyscanner.co.th/transport/flights/bkkt/vero?adults=2&children=0&adultsv2=2&childrenv2=&infants=0&cabinclass=economy&rtn=1&preferdirects=false&outboundaltsenabled=false&inboundaltsenabled=false&qp_prevProvider=ins_browse&qp_prevCurrency=THB&priceSourceId=b3ms-SG1-1&qp_prevPrice=22721\n",
      "ตูริน\n",
      "1+ จุดพัก\n",
      "เริ่มต้นที่ ฿22,761 https://www.skyscanner.co.th/transport/flights/bkkt/turi?adults=2&children=0&adultsv2=2&childrenv2=&infants=0&cabinclass=economy&rtn=1&preferdirects=false&outboundaltsenabled=false&inboundaltsenabled=false&qp_prevProvider=ins_browse&qp_prevCurrency=THB&priceSourceId=b3ms-SG1-1&qp_prevPrice=22761\n",
      "ปิซา\n",
      "1+ จุดพัก\n",
      "เริ่มต้นที่ ฿23,820 https://www.skyscanner.co.th/transport/flights/bkkt/pisa?adults=2&children=0&adultsv2=2&childrenv2=&infants=0&cabinclass=economy&rtn=1&preferdirects=false&outboundaltsenabled=false&inboundaltsenabled=false&qp_prevProvider=ins_browse&qp_prevCurrency=THB&priceSourceId=b3ms-SG1-1&qp_prevPrice=23820\n",
      "ฟลอเรนซ์\n",
      "1+ จุดพัก\n",
      "เริ่มต้นที่ ฿24,280 https://www.skyscanner.co.th/transport/flights/bkkt/flor?adults=2&children=0&adultsv2=2&childrenv2=&infants=0&cabinclass=economy&rtn=1&preferdirects=false&outboundaltsenabled=false&inboundaltsenabled=false&qp_prevProvider=ins_browse&qp_prevCurrency=THB&priceSourceId=b3ms-SG1-1&qp_prevPrice=24280\n",
      "บารี\n",
      "1+ จุดพัก\n",
      "เริ่มต้นที่ ฿24,724 https://www.skyscanner.co.th/transport/flights/bkkt/bari?adults=2&children=0&adultsv2=2&childrenv2=&infants=0&cabinclass=economy&rtn=1&preferdirects=false&outboundaltsenabled=false&inboundaltsenabled=false&qp_prevProvider=ins_browse&qp_prevCurrency=THB&priceSourceId=b3ms-SG1-1&qp_prevPrice=24724\n",
      "โอลเบีย\n",
      "1+ จุดพัก\n",
      "เริ่มต้นที่ ฿26,688 https://www.skyscanner.co.th/transport/flights/bkkt/olbi?adults=2&children=0&adultsv2=2&childrenv2=&infants=0&cabinclass=economy&rtn=1&preferdirects=false&outboundaltsenabled=false&inboundaltsenabled=false&qp_prevProvider=ins_browse&qp_prevCurrency=THB&priceSourceId=b3ms-SG1-1&qp_prevPrice=26688\n",
      "กายารี่\n",
      "1+ จุดพัก\n",
      "เริ่มต้นที่ ฿27,518 https://www.skyscanner.co.th/transport/flights/bkkt/cagl?adults=2&children=0&adultsv2=2&childrenv2=&infants=0&cabinclass=economy&rtn=1&preferdirects=false&outboundaltsenabled=false&inboundaltsenabled=false&qp_prevProvider=ins_browse&qp_prevCurrency=THB&priceSourceId=b3ms-SG1-1&qp_prevPrice=27518\n",
      "เจนัว\n",
      "1+ จุดพัก\n",
      "เริ่มต้นที่ ฿27,882 https://www.skyscanner.co.th/transport/flights/bkkt/geno?adults=2&children=0&adultsv2=2&childrenv2=&infants=0&cabinclass=economy&rtn=1&preferdirects=false&outboundaltsenabled=false&inboundaltsenabled=false&qp_prevProvider=ins_browse&qp_prevCurrency=THB&priceSourceId=b3ms-SG1-1&qp_prevPrice=27882\n",
      "ตรีเอสเต\n",
      "1+ จุดพัก\n",
      "เริ่มต้นที่ ฿28,015 https://www.skyscanner.co.th/transport/flights/bkkt/trie?adults=2&children=0&adultsv2=2&childrenv2=&infants=0&cabinclass=economy&rtn=1&preferdirects=false&outboundaltsenabled=false&inboundaltsenabled=false&qp_prevProvider=ins_browse&qp_prevCurrency=THB&priceSourceId=b3ms-SG1-1&qp_prevPrice=28015\n",
      "เรจโจกาลาเบรีย\n",
      "1+ จุดพัก\n",
      "เริ่มต้นที่ ฿28,024 https://www.skyscanner.co.th/transport/flights/bkkt/regg?adults=2&children=0&adultsv2=2&childrenv2=&infants=0&cabinclass=economy&rtn=1&preferdirects=false&outboundaltsenabled=false&inboundaltsenabled=false&qp_prevProvider=ins_browse&qp_prevCurrency=THB&priceSourceId=b3ms-SG1-1&qp_prevPrice=28024\n",
      "คูเนโอ\n",
      "1+ จุดพัก\n",
      "เริ่มต้นที่ ฿39,842 https://www.skyscanner.co.th/transport/flights/bkkt/cune?adults=2&children=0&adultsv2=2&childrenv2=&infants=0&cabinclass=economy&rtn=1&preferdirects=false&outboundaltsenabled=false&inboundaltsenabled=false&qp_prevProvider=ins_browse&qp_prevCurrency=THB&priceSourceId=b3ms-SG1-1&qp_prevPrice=39842\n",
      "ลัมเปดูซา\n",
      "1+ จุดพัก\n",
      "เริ่มต้นที่ ฿45,022 https://www.skyscanner.co.th/transport/flights/bkkt/lamp?adults=2&children=0&adultsv2=2&childrenv2=&infants=0&cabinclass=economy&rtn=1&preferdirects=false&outboundaltsenabled=false&inboundaltsenabled=false&qp_prevProvider=ins_browse&qp_prevCurrency=THB&priceSourceId=b3ms-SG1-1&qp_prevPrice=45022\n",
      "อัลเกโร (ซาร์ดิเนียไอแลนด์)\n",
      "1+ จุดพัก\n",
      "เริ่มต้นที่ ฿46,819 https://www.skyscanner.co.th/transport/flights/bkkt/algs?adults=2&children=0&adultsv2=2&childrenv2=&infants=0&cabinclass=economy&rtn=1&preferdirects=false&outboundaltsenabled=false&inboundaltsenabled=false&qp_prevProvider=ins_browse&qp_prevCurrency=THB&priceSourceId=b3ms-SG1-1&qp_prevPrice=46819\n",
      "โคมิโซ่\n",
      "1+ จุดพัก\n",
      "รับข้อมูลราคา https://www.skyscanner.co.th/transport/flights/bkkt/comi?adults=2&children=0&adultsv2=2&childrenv2=&infants=0&cabinclass=economy&rtn=1&preferdirects=false&outboundaltsenabled=false&inboundaltsenabled=false&qp_prevProvider=ins_browse&qp_prevCurrency=THB&priceSourceId=b3ms-SG1-1\n",
      "ริมินี\n",
      "1+ จุดพัก\n",
      "รับข้อมูลราคา https://www.skyscanner.co.th/transport/flights/bkkt/rimi?adults=2&children=0&adultsv2=2&childrenv2=&infants=0&cabinclass=economy&rtn=1&preferdirects=false&outboundaltsenabled=false&inboundaltsenabled=false&qp_prevProvider=ins_browse&qp_prevCurrency=THB&priceSourceId=b3ms-SG1-1\n",
      "แอนโคนา\n",
      "1+ จุดพัก\n",
      "รับข้อมูลราคา https://www.skyscanner.co.th/transport/flights/bkkt/anco?adults=2&children=0&adultsv2=2&childrenv2=&infants=0&cabinclass=economy&rtn=1&preferdirects=false&outboundaltsenabled=false&inboundaltsenabled=false&qp_prevProvider=ins_browse&qp_prevCurrency=THB&priceSourceId=b3ms-SG1-1\n"
     ]
    }
   ],
   "source": [
    "province_ele = driver.find_elements(By.CLASS_NAME, 'with-image')\n",
    "\n",
    "for province in province_ele:\n",
    "    wheretoshow = province.find_element(By.CLASS_NAME, 'browse-data-entry').text\n",
    "    url = province.find_element(By.TAG_NAME,'a').get_attribute('href')\n",
    "    \n",
    "    print(wheretoshow,url)"
   ]
  },
  {
   "cell_type": "code",
   "execution_count": null,
   "metadata": {},
   "outputs": [],
   "source": []
  },
  {
   "cell_type": "code",
   "execution_count": null,
   "metadata": {},
   "outputs": [],
   "source": []
  }
 ],
 "metadata": {
  "kernelspec": {
   "display_name": "Python (botEnv)",
   "language": "python",
   "name": "botenv"
  },
  "language_info": {
   "codemirror_mode": {
    "name": "ipython",
    "version": 3
   },
   "file_extension": ".py",
   "mimetype": "text/x-python",
   "name": "python",
   "nbconvert_exporter": "python",
   "pygments_lexer": "ipython3",
   "version": "3.6.5"
  }
 },
 "nbformat": 4,
 "nbformat_minor": 2
}
