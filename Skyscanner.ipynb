{
 "cells": [
  {
   "cell_type": "code",
   "execution_count": 1,
   "metadata": {},
   "outputs": [],
   "source": [
    "from selenium import webdriver\n",
    "from selenium.webdriver.common.desired_capabilities import DesiredCapabilities\n",
    "from selenium.webdriver.common.by import By\n",
    "from selenium.webdriver.support.ui import WebDriverWait\n",
    "from selenium.webdriver.support import expected_conditions as EC\n",
    "import time"
   ]
  },
  {
   "cell_type": "code",
   "execution_count": 3,
   "metadata": {},
   "outputs": [],
   "source": [
    "driver = webdriver.Firefox()\n",
    "urlMain =\"https://www.skyscanner.co.th/transport/flights/bkkt/ch?adults=1&children=0&adultsv2=1&childrenv2=&infants=0&cabinclass=economy&rtn=1&preferdirects=false&outboundaltsenabled=false&inboundaltsenabled=false&ref=home\"\n",
    "driver.get(urlMain)\n"
   ]
  },
  {
   "cell_type": "code",
   "execution_count": 3,
   "metadata": {},
   "outputs": [],
   "source": [
    "allcountry = driver.find_elements(By.CLASS_NAME, 'browse-list-category')[0]"
   ]
  },
  {
   "cell_type": "code",
   "execution_count": 4,
   "metadata": {},
   "outputs": [],
   "source": [
    "country = allcountry.find_element(By.TAG_NAME,'h3').text"
   ]
  },
  {
   "cell_type": "code",
   "execution_count": 5,
   "metadata": {},
   "outputs": [],
   "source": [
    "lower_price = allcountry.find_element(By.TAG_NAME,'p').text.split('฿')[1]"
   ]
  },
  {
   "cell_type": "code",
   "execution_count": 6,
   "metadata": {
    "collapsed": true
   },
   "outputs": [],
   "source": [
    "allcountry.find_element(By.CLASS_NAME, 'browse-data-route').click()"
   ]
  },
  {
   "cell_type": "code",
   "execution_count": 9,
   "metadata": {},
   "outputs": [
    {
     "name": "stdout",
     "output_type": "stream",
     "text": [
      "เชียงใหม่\n",
      "บินตรง\n",
      "เริ่มต้นที่ ฿919 https://www.skyscanner.co.th/transport/flights/bkkt/cnxt?adults=1&children=0&adultsv2=1&childrenv2=&infants=0&cabinclass=economy&rtn=1&preferdirects=false&outboundaltsenabled=false&inboundaltsenabled=false&qp_prevProvider=ins_browse&qp_prevCurrency=THB&priceSourceId=b3ms-SG1-1&qp_prevPrice=919\n",
      "เชียงราย\n",
      "บินตรง\n",
      "เริ่มต้นที่ ฿924 https://www.skyscanner.co.th/transport/flights/bkkt/ceit?adults=1&children=0&adultsv2=1&childrenv2=&infants=0&cabinclass=economy&rtn=1&preferdirects=false&outboundaltsenabled=false&inboundaltsenabled=false&qp_prevProvider=ins_browse&qp_prevCurrency=THB&priceSourceId=b3ms-SG1-1&qp_prevPrice=924\n",
      "ภูเก็ต\n",
      "บินตรง\n",
      "เริ่มต้นที่ ฿994 https://www.skyscanner.co.th/transport/flights/bkkt/hktt?adults=1&children=0&adultsv2=1&childrenv2=&infants=0&cabinclass=economy&rtn=1&preferdirects=false&outboundaltsenabled=false&inboundaltsenabled=false&qp_prevProvider=ins_browse&qp_prevCurrency=THB&priceSourceId=b3ms-SG1-1&qp_prevPrice=994\n",
      "พิษณุโลก\n",
      "บินตรง\n",
      "เริ่มต้นที่ ฿1,055 https://www.skyscanner.co.th/transport/flights/bkkt/phst?adults=1&children=0&adultsv2=1&childrenv2=&infants=0&cabinclass=economy&rtn=1&preferdirects=false&outboundaltsenabled=false&inboundaltsenabled=false&qp_prevProvider=ins_browse&qp_prevCurrency=THB&priceSourceId=b3ms-SG1-1&qp_prevPrice=1055\n",
      "อุดรธานี\n",
      "บินตรง\n",
      "เริ่มต้นที่ ฿1,059 https://www.skyscanner.co.th/transport/flights/bkkt/utht?adults=1&children=0&adultsv2=1&childrenv2=&infants=0&cabinclass=economy&rtn=1&preferdirects=false&outboundaltsenabled=false&inboundaltsenabled=false&qp_prevProvider=ins_browse&qp_prevCurrency=THB&priceSourceId=b3ms-SG1-1&qp_prevPrice=1059\n",
      "กระบี่\n",
      "บินตรง\n",
      "เริ่มต้นที่ ฿1,067 https://www.skyscanner.co.th/transport/flights/bkkt/kbvt?adults=1&children=0&adultsv2=1&childrenv2=&infants=0&cabinclass=economy&rtn=1&preferdirects=false&outboundaltsenabled=false&inboundaltsenabled=false&qp_prevProvider=ins_browse&qp_prevCurrency=THB&priceSourceId=b3ms-SG1-1&qp_prevPrice=1067\n",
      "อุบลราชธานี\n",
      "บินตรง\n",
      "เริ่มต้นที่ ฿1,087 https://www.skyscanner.co.th/transport/flights/bkkt/ubpt?adults=1&children=0&adultsv2=1&childrenv2=&infants=0&cabinclass=economy&rtn=1&preferdirects=false&outboundaltsenabled=false&inboundaltsenabled=false&qp_prevProvider=ins_browse&qp_prevCurrency=THB&priceSourceId=b3ms-SG1-1&qp_prevPrice=1087\n",
      "บุรีรัมย์\n",
      "บินตรง\n",
      "เริ่มต้นที่ ฿1,088 https://www.skyscanner.co.th/transport/flights/bkkt/bfvt?adults=1&children=0&adultsv2=1&childrenv2=&infants=0&cabinclass=economy&rtn=1&preferdirects=false&outboundaltsenabled=false&inboundaltsenabled=false&qp_prevProvider=ins_browse&qp_prevCurrency=THB&priceSourceId=b3ms-SG1-1&qp_prevPrice=1088\n",
      "หาดใหญ่ (สงขลา)\n",
      "บินตรง\n",
      "เริ่มต้นที่ ฿1,090 https://www.skyscanner.co.th/transport/flights/bkkt/hdyt?adults=1&children=0&adultsv2=1&childrenv2=&infants=0&cabinclass=economy&rtn=1&preferdirects=false&outboundaltsenabled=false&inboundaltsenabled=false&qp_prevProvider=ins_browse&qp_prevCurrency=THB&priceSourceId=b3ms-SG1-1&qp_prevPrice=1090\n",
      "เลย\n",
      "บินตรง\n",
      "เริ่มต้นที่ ฿1,148 https://www.skyscanner.co.th/transport/flights/bkkt/loet?adults=1&children=0&adultsv2=1&childrenv2=&infants=0&cabinclass=economy&rtn=1&preferdirects=false&outboundaltsenabled=false&inboundaltsenabled=false&qp_prevProvider=ins_browse&qp_prevCurrency=THB&priceSourceId=b3ms-SG1-1&qp_prevPrice=1148\n",
      "ขอนแก่น\n",
      "บินตรง\n",
      "เริ่มต้นที่ ฿1,156 https://www.skyscanner.co.th/transport/flights/bkkt/kkct?adults=1&children=0&adultsv2=1&childrenv2=&infants=0&cabinclass=economy&rtn=1&preferdirects=false&outboundaltsenabled=false&inboundaltsenabled=false&qp_prevProvider=ins_browse&qp_prevCurrency=THB&priceSourceId=b3ms-SG1-1&qp_prevPrice=1156\n",
      "ตรัง\n",
      "บินตรง\n",
      "เริ่มต้นที่ ฿1,159 https://www.skyscanner.co.th/transport/flights/bkkt/tstt?adults=1&children=0&adultsv2=1&childrenv2=&infants=0&cabinclass=economy&rtn=1&preferdirects=false&outboundaltsenabled=false&inboundaltsenabled=false&qp_prevProvider=ins_browse&qp_prevCurrency=THB&priceSourceId=b3ms-SG1-1&qp_prevPrice=1159\n",
      "ชุมพร\n",
      "บินตรง\n",
      "เริ่มต้นที่ ฿1,162 https://www.skyscanner.co.th/transport/flights/bkkt/cjmt?adults=1&children=0&adultsv2=1&childrenv2=&infants=0&cabinclass=economy&rtn=1&preferdirects=false&outboundaltsenabled=false&inboundaltsenabled=false&qp_prevProvider=ins_browse&qp_prevCurrency=THB&priceSourceId=b3ms-SG1-1&qp_prevPrice=1162\n",
      "สุราษฎร์ธานี\n",
      "บินตรง\n",
      "เริ่มต้นที่ ฿1,166 https://www.skyscanner.co.th/transport/flights/bkkt/urtt?adults=1&children=0&adultsv2=1&childrenv2=&infants=0&cabinclass=economy&rtn=1&preferdirects=false&outboundaltsenabled=false&inboundaltsenabled=false&qp_prevProvider=ins_browse&qp_prevCurrency=THB&priceSourceId=b3ms-SG1-1&qp_prevPrice=1166\n",
      "นครศรีธรรมราช\n",
      "บินตรง\n",
      "เริ่มต้นที่ ฿1,265 https://www.skyscanner.co.th/transport/flights/bkkt/nstt?adults=1&children=0&adultsv2=1&childrenv2=&infants=0&cabinclass=economy&rtn=1&preferdirects=false&outboundaltsenabled=false&inboundaltsenabled=false&qp_prevProvider=ins_browse&qp_prevCurrency=THB&priceSourceId=b3ms-SG1-1&qp_prevPrice=1265\n",
      "นครพนม\n",
      "บินตรง\n",
      "เริ่มต้นที่ ฿1,281 https://www.skyscanner.co.th/transport/flights/bkkt/kopt?adults=1&children=0&adultsv2=1&childrenv2=&infants=0&cabinclass=economy&rtn=1&preferdirects=false&outboundaltsenabled=false&inboundaltsenabled=false&qp_prevProvider=ins_browse&qp_prevCurrency=THB&priceSourceId=b3ms-SG1-1&qp_prevPrice=1281\n",
      "สกลนคร\n",
      "บินตรง\n",
      "เริ่มต้นที่ ฿1,281 https://www.skyscanner.co.th/transport/flights/bkkt/snot?adults=1&children=0&adultsv2=1&childrenv2=&infants=0&cabinclass=economy&rtn=1&preferdirects=false&outboundaltsenabled=false&inboundaltsenabled=false&qp_prevProvider=ins_browse&qp_prevCurrency=THB&priceSourceId=b3ms-SG1-1&qp_prevPrice=1281\n",
      "ร้อยเอ็ด\n",
      "บินตรง\n",
      "เริ่มต้นที่ ฿1,291 https://www.skyscanner.co.th/transport/flights/bkkt/roit?adults=1&children=0&adultsv2=1&childrenv2=&infants=0&cabinclass=economy&rtn=1&preferdirects=false&outboundaltsenabled=false&inboundaltsenabled=false&qp_prevProvider=ins_browse&qp_prevCurrency=THB&priceSourceId=b3ms-SG1-1&qp_prevPrice=1291\n",
      "น่าน\n",
      "บินตรง\n",
      "เริ่มต้นที่ ฿1,356 https://www.skyscanner.co.th/transport/flights/bkkt/nntt?adults=1&children=0&adultsv2=1&childrenv2=&infants=0&cabinclass=economy&rtn=1&preferdirects=false&outboundaltsenabled=false&inboundaltsenabled=false&qp_prevProvider=ins_browse&qp_prevCurrency=THB&priceSourceId=b3ms-SG1-1&qp_prevPrice=1356\n",
      "ระนอง\n",
      "บินตรง\n",
      "เริ่มต้นที่ ฿1,480 https://www.skyscanner.co.th/transport/flights/bkkt/unnt?adults=1&children=0&adultsv2=1&childrenv2=&infants=0&cabinclass=economy&rtn=1&preferdirects=false&outboundaltsenabled=false&inboundaltsenabled=false&qp_prevProvider=ins_browse&qp_prevCurrency=THB&priceSourceId=b3ms-SG1-1&qp_prevPrice=1480\n",
      "ลำปาง\n",
      "บินตรง\n",
      "เริ่มต้นที่ ฿1,492 https://www.skyscanner.co.th/transport/flights/bkkt/lptt?adults=1&children=0&adultsv2=1&childrenv2=&infants=0&cabinclass=economy&rtn=1&preferdirects=false&outboundaltsenabled=false&inboundaltsenabled=false&qp_prevProvider=ins_browse&qp_prevCurrency=THB&priceSourceId=b3ms-SG1-1&qp_prevPrice=1492\n",
      "แพร่\n",
      "บินตรง\n",
      "เริ่มต้นที่ ฿2,006 https://www.skyscanner.co.th/transport/flights/bkkt/prht?adults=1&children=0&adultsv2=1&childrenv2=&infants=0&cabinclass=economy&rtn=1&preferdirects=false&outboundaltsenabled=false&inboundaltsenabled=false&qp_prevProvider=ins_browse&qp_prevCurrency=THB&priceSourceId=b3ms-SG1-1&qp_prevPrice=2006\n",
      "นราธิวาส\n",
      "บินตรง\n",
      "เริ่มต้นที่ ฿2,362 https://www.skyscanner.co.th/transport/flights/bkkt/nawt?adults=1&children=0&adultsv2=1&childrenv2=&infants=0&cabinclass=economy&rtn=1&preferdirects=false&outboundaltsenabled=false&inboundaltsenabled=false&qp_prevProvider=ins_browse&qp_prevCurrency=THB&priceSourceId=b3ms-SG1-1&qp_prevPrice=2362\n",
      "แม่สอด (ตาก)\n",
      "บินตรง\n",
      "เริ่มต้นที่ ฿2,623 https://www.skyscanner.co.th/transport/flights/bkkt/maqt?adults=1&children=0&adultsv2=1&childrenv2=&infants=0&cabinclass=economy&rtn=1&preferdirects=false&outboundaltsenabled=false&inboundaltsenabled=false&qp_prevProvider=ins_browse&qp_prevCurrency=THB&priceSourceId=b3ms-SG1-1&qp_prevPrice=2623\n",
      "สุโขทัย\n",
      "บินตรง\n",
      "เริ่มต้นที่ ฿3,464 https://www.skyscanner.co.th/transport/flights/bkkt/thst?adults=1&children=0&adultsv2=1&childrenv2=&infants=0&cabinclass=economy&rtn=1&preferdirects=false&outboundaltsenabled=false&inboundaltsenabled=false&qp_prevProvider=ins_browse&qp_prevCurrency=THB&priceSourceId=b3ms-SG1-1&qp_prevPrice=3464\n",
      "แม่ฮ่องสอน\n",
      "1+ จุดพัก (มีเที่ยวบินตรง)\n"
     ]
    },
    {
     "name": "stdout",
     "output_type": "stream",
     "text": [
      "เริ่มต้นที่ ฿3,671 https://www.skyscanner.co.th/transport/flights/bkkt/hgnt?adults=1&children=0&adultsv2=1&childrenv2=&infants=0&cabinclass=economy&rtn=1&preferdirects=false&outboundaltsenabled=false&inboundaltsenabled=false&qp_prevProvider=ins_browse&qp_prevCurrency=THB&priceSourceId=b3ms-SG1-1&qp_prevPrice=3671\n",
      "อู่ตะเภา ระยอง พัทยา\n",
      "1+ จุดพัก\n",
      "เริ่มต้นที่ ฿3,934 https://www.skyscanner.co.th/transport/flights/bkkt/utpt?adults=1&children=0&adultsv2=1&childrenv2=&infants=0&cabinclass=economy&rtn=1&preferdirects=false&outboundaltsenabled=false&inboundaltsenabled=false&qp_prevProvider=ins_browse&qp_prevCurrency=THB&priceSourceId=b3ms-SG1-1&qp_prevPrice=3934\n",
      "ตราด\n",
      "บินตรง\n",
      "เริ่มต้นที่ ฿5,647 https://www.skyscanner.co.th/transport/flights/bkkt/tdxt?adults=1&children=0&adultsv2=1&childrenv2=&infants=0&cabinclass=economy&rtn=1&preferdirects=false&outboundaltsenabled=false&inboundaltsenabled=false&qp_prevProvider=ins_browse&qp_prevCurrency=THB&priceSourceId=b3ms-SG1-1&qp_prevPrice=5647\n",
      "เกาะสมุย\n",
      "บินตรง\n",
      "เริ่มต้นที่ ฿8,291 https://www.skyscanner.co.th/transport/flights/bkkt/usmt?adults=1&children=0&adultsv2=1&childrenv2=&infants=0&cabinclass=economy&rtn=1&preferdirects=false&outboundaltsenabled=false&inboundaltsenabled=false&qp_prevProvider=ins_browse&qp_prevCurrency=THB&priceSourceId=b3ms-SG1-1&qp_prevPrice=8291\n",
      "หัวหิน (ประจวบคีรีขันธ์)\n",
      "1+ จุดพัก\n",
      "เริ่มต้นที่ ฿9,010 https://www.skyscanner.co.th/transport/flights/bkkt/hhqt?adults=1&children=0&adultsv2=1&childrenv2=&infants=0&cabinclass=economy&rtn=1&preferdirects=false&outboundaltsenabled=false&inboundaltsenabled=false&qp_prevProvider=ins_browse&qp_prevCurrency=THB&priceSourceId=b3ms-SG1-1&qp_prevPrice=9010\n"
     ]
    }
   ],
   "source": [
    "province_ele = allcountry.find_elements(By.CLASS_NAME, 'with-image')\n",
    "\n",
    "for province in province_ele:\n",
    "    wheretoshow = province.find_element(By.CLASS_NAME, 'browse-data-entry').text\n",
    "    url = province.find_element(By.TAG_NAME,'a').get_attribute('href')\n",
    "    \n",
    "    print(wheretoshow,url)"
   ]
  },
  {
   "cell_type": "code",
   "execution_count": null,
   "metadata": {
    "collapsed": true
   },
   "outputs": [],
   "source": []
  },
  {
   "cell_type": "code",
   "execution_count": null,
   "metadata": {
    "collapsed": true
   },
   "outputs": [],
   "source": []
  }
 ],
 "metadata": {
  "kernelspec": {
   "display_name": "Python (botEnv)",
   "language": "python",
   "name": "botenv"
  },
  "language_info": {
   "codemirror_mode": {
    "name": "ipython",
    "version": 3
   },
   "file_extension": ".py",
   "mimetype": "text/x-python",
   "name": "python",
   "nbconvert_exporter": "python",
   "pygments_lexer": "ipython3",
   "version": "3.6.5"
  }
 },
 "nbformat": 4,
 "nbformat_minor": 2
}
