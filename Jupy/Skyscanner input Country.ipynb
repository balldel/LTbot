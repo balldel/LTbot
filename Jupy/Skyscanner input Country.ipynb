{
 "cells": [
  {
   "cell_type": "code",
   "execution_count": 1,
   "metadata": {
    "collapsed": true
   },
   "outputs": [],
   "source": [
    "from selenium import webdriver\n",
    "from selenium.webdriver.common.desired_capabilities import DesiredCapabilities\n",
    "from selenium.webdriver.common.by import By\n",
    "import time"
   ]
  },
  {
   "cell_type": "code",
   "execution_count": 2,
   "metadata": {
    "collapsed": true
   },
   "outputs": [],
   "source": [
    "driver = webdriver.Firefox()\n",
    "countrycode = 'ch'\n",
    "price_min = 0\n",
    "price_max = 30000\n",
    "urlMain =\"https://www.skyscanner.co.th/transport/flights/bkkt/\"+countrycode+\"?adults=2&children=0&adultsv2=2&childrenv2=&infants=0&cabinclass=economy&rtn=1&preferdirects=false&outboundaltsenabled=false&inboundaltsenabled=false&ref=home\"\n",
    "driver.get(urlMain)\n",
    "time.sleep(5)"
   ]
  },
  {
   "cell_type": "code",
   "execution_count": 3,
   "metadata": {},
   "outputs": [],
   "source": [
    "# province = driver.find_elements(By.CLASS_NAME, 'with-image')[0]\n",
    "data = []\n",
    "\n",
    "province_ele = driver.find_elements(By.CLASS_NAME, 'with-image')\n",
    "for province in province_ele:\n",
    "    \n",
    "    wheretoshow = province.find_element(By.CLASS_NAME, 'browse-data-entry').text\n",
    "    url = province.find_element(By.TAG_NAME,'a').get_attribute('href')\n",
    "    \n",
    "    where = {\n",
    "        'wheretoshow' : wheretoshow ,\n",
    "        'url' : url\n",
    "    }\n",
    "    data.append(where)\n",
    "            "
   ]
  },
  {
   "cell_type": "code",
   "execution_count": 7,
   "metadata": {},
   "outputs": [
    {
     "name": "stdout",
     "output_type": "stream",
     "text": [
      "[{'wheretoshow': 'ซูริค\\n1+ จุดพัก (มีเที่ยวบินตรง)\\nเริ่มต้นที่ ฿16,932', 'url': 'https://www.skyscanner.co.th/transport/flights/bkkt/zuri?adults=2&children=0&adultsv2=2&childrenv2=&infants=0&cabinclass=economy&rtn=1&preferdirects=false&outboundaltsenabled=false&inboundaltsenabled=false&seo_airline=ke&qp_prevProvider=ins_browse&qp_prevCurrency=THB&priceSourceId=b3ms-HK1-1&qp_prevPrice=16932', 'month': 'พ.ค.'}, {'wheretoshow': 'เจนีวา\\n1+ จุดพัก\\nเริ่มต้นที่ ฿18,302', 'url': 'https://www.skyscanner.co.th/transport/flights/bkkt/gene?adults=2&children=0&adultsv2=2&childrenv2=&infants=0&cabinclass=economy&rtn=1&preferdirects=false&outboundaltsenabled=false&inboundaltsenabled=false&seo_airline=ke&qp_prevProvider=ins_browse&qp_prevCurrency=THB&priceSourceId=b3ms-HK1-1&qp_prevPrice=18302', 'month': 'มิ.ย.'}, {'wheretoshow': 'บาเซิล\\n1+ จุดพัก\\nเริ่มต้นที่ ฿21,635', 'url': 'https://www.skyscanner.co.th/transport/flights/bkkt/base?adults=2&children=0&adultsv2=2&childrenv2=&infants=0&cabinclass=economy&rtn=1&preferdirects=false&outboundaltsenabled=false&inboundaltsenabled=false&seo_airline=ke&qp_prevProvider=ins_browse&qp_prevCurrency=THB&priceSourceId=b3ms-HK1-1&qp_prevPrice=21635', 'month': 'พ.ค.'}, {'wheretoshow': 'ลูยาโน\\n1+ จุดพัก\\nเริ่มต้นที่ ฿30,089', 'url': 'https://www.skyscanner.co.th/transport/flights/bkkt/luga?adults=2&children=0&adultsv2=2&childrenv2=&infants=0&cabinclass=economy&rtn=1&preferdirects=false&outboundaltsenabled=false&inboundaltsenabled=false&seo_airline=ke&qp_prevProvider=ins_browse&qp_prevCurrency=THB&priceSourceId=b3ms-HK1-1&qp_prevPrice=30089', 'month': 'ก.พ.'}, {'wheretoshow': 'อัลเทนเฮน\\n1+ จุดพัก\\nเริ่มต้นที่ ฿47,035', 'url': 'https://www.skyscanner.co.th/transport/flights/bkkt/altf?adults=2&children=0&adultsv2=2&childrenv2=&infants=0&cabinclass=economy&rtn=1&preferdirects=false&outboundaltsenabled=false&inboundaltsenabled=false&seo_airline=ke&qp_prevProvider=ins_browse&qp_prevCurrency=THB&priceSourceId=b3ms-HK1-1&qp_prevPrice=47035', 'month': 'ต.ค.'}, {'wheretoshow': 'เบิร์น\\n1+ จุดพัก\\nเริ่มต้นที่ ฿51,871', 'url': 'https://www.skyscanner.co.th/transport/flights/bkkt/bern?adults=2&children=0&adultsv2=2&childrenv2=&infants=0&cabinclass=economy&rtn=1&preferdirects=false&outboundaltsenabled=false&inboundaltsenabled=false&seo_airline=ke&qp_prevProvider=ins_browse&qp_prevCurrency=THB&priceSourceId=b3ms-HK1-1&qp_prevPrice=51871', 'month': 'พ.ค.'}, {'wheretoshow': 'ซียง\\n1+ จุดพัก\\nรับข้อมูลราคา', 'url': 'https://www.skyscanner.co.th/transport/flights/bkkt/sion?adults=2&children=0&adultsv2=2&childrenv2=&infants=0&cabinclass=economy&rtn=1&preferdirects=false&outboundaltsenabled=false&inboundaltsenabled=false&seo_airline=ke&qp_prevProvider=ins_browse&qp_prevCurrency=THB&priceSourceId=b3ms-HK1-1', 'month': 'เม.ย.'}]\n"
     ]
    }
   ],
   "source": [
    "for m in data:\n",
    "#     print(m['url'])\n",
    "    driver.get(m['url'])\n",
    "    time.sleep(1)\n",
    "    month = driver.find_element(By.CLASS_NAME, 'month-view__trip-summary-dates--outbound').text.split(' ')[2]\n",
    "#     print(month)\n",
    "    m['month'] = month\n",
    "print(data)"
   ]
  },
  {
   "cell_type": "code",
   "execution_count": null,
   "metadata": {
    "collapsed": true
   },
   "outputs": [],
   "source": []
  },
  {
   "cell_type": "code",
   "execution_count": null,
   "metadata": {
    "collapsed": true
   },
   "outputs": [],
   "source": []
  }
 ],
 "metadata": {
  "kernelspec": {
   "display_name": "Python (botEnv)",
   "language": "python",
   "name": "botenv"
  },
  "language_info": {
   "codemirror_mode": {
    "name": "ipython",
    "version": 3
   },
   "file_extension": ".py",
   "mimetype": "text/x-python",
   "name": "python",
   "nbconvert_exporter": "python",
   "pygments_lexer": "ipython3",
   "version": "3.6.4"
  }
 },
 "nbformat": 4,
 "nbformat_minor": 2
}
